{
 "cells": [
  {
   "cell_type": "markdown",
   "metadata": {},
   "source": [
    "# Figure 5: Predict Fos to/from Behavior \n",
    "\n",
    "Evaluate Fos <-> behavior predictions using held-out mice"
   ]
  },
  {
   "cell_type": "code",
   "execution_count": 1,
   "metadata": {},
   "outputs": [],
   "source": [
    "import jax.numpy as jnp\n",
    "import os\n",
    "import pandas as pd\n",
    "import pickle\n",
    "import numpy as np\n",
    "import matplotlib.pyplot as plt\n",
    "import matplotlib.cm as cm\n",
    "import wandb\n",
    "import warnings\n",
    "\n",
    "from fastprogress import progress_bar\n",
    "from mpl_toolkits.axes_grid1 import ImageGrid\n",
    "from scipy.io import loadmat\n",
    "from sklearn.linear_model import LinearRegression\n",
    "from tensorflow_probability.substrates import jax as tfp\n",
    "tfb = tfp.bijectors\n",
    "\n",
    "from fos import seminmf_full as seminmf"
   ]
  },
  {
   "cell_type": "code",
   "execution_count": 9,
   "metadata": {},
   "outputs": [],
   "source": [
    "FOS_PARAM_DIR = \"../results/heldout/fos\"\n",
    "WAND_FOS_HELDOUT_PROJECT = \"linderman-lab/serotonin-fos-seminmf-heldout\"\n",
    "BEHAVIOR_PARAM_DIR = \"../results/heldout/behavior\"\n",
    "WAND_BEHAVIOR_HELDOUT_PROJECT = \"linderman-lab/serotonin-behavior-heldout\"\n",
    "FOS_DATA_DIREC = \"/Users/scott/Dropbox/Data/serotonin\"\n",
    "NUM_EPOCHS = 12\n",
    "NUM_POSITIONS = 10\n",
    "NUM_SYLLABLES = 50\n",
    "NUM_VOXELS = 348766"
   ]
  },
  {
   "cell_type": "markdown",
   "metadata": {},
   "source": [
    "## Helpers"
   ]
  },
  {
   "cell_type": "code",
   "execution_count": 10,
   "metadata": {},
   "outputs": [],
   "source": [
    "# Make a colormap to hide insignificant changes\n",
    "cmap = cm.RdBu_r\n",
    "cmap.set_bad('k', alpha=0.25)\n",
    "\n",
    "def plot_coronal(flat_array, y_idx, alive_voxels, ax=None, **kwargs):\n",
    "    arr = np.nan * np.zeros(alive_voxels.shape)\n",
    "    arr[alive_voxels] = flat_array\n",
    "\n",
    "    if ax is None:\n",
    "        fig, ax = plt.subplots(1, 1)\n",
    "    im = ax.imshow(arr[:, y_idx, :].T, **kwargs)\n",
    "    return ax, im"
   ]
  },
  {
   "cell_type": "markdown",
   "metadata": {},
   "source": [
    "## Load the data"
   ]
  },
  {
   "cell_type": "code",
   "execution_count": 11,
   "metadata": {},
   "outputs": [],
   "source": [
    "drugs = np.load(os.path.join(FOS_DATA_DIREC, \"drug_ids.npy\"))"
   ]
  },
  {
   "cell_type": "code",
   "execution_count": 12,
   "metadata": {},
   "outputs": [
    {
     "name": "stdout",
     "output_type": "stream",
     "text": [
      "(168, 81, 95, 80)\n",
      "348766 / 615600 voxels are 'alive'\n"
     ]
    }
   ],
   "source": [
    "def load_fos_counts(left_trunc=8):\n",
    "    data = np.load(os.path.join(FOS_DATA_DIREC, f\"downsampled_data_4.npz\"))\n",
    "    intensity_3d = data[\"intensity\"][:-1]\n",
    "    counts_3d = data[\"counts\"][:-1]\n",
    "    mouse_inds = data[\"mouse_inds\"]\n",
    "    assert intensity_3d.shape[0] == 168\n",
    "    assert counts_3d.shape[0] == 168\n",
    "\n",
    "    counts_3d = counts_3d[:, left_trunc:, :, :]\n",
    "    intensity_3d = intensity_3d[:, left_trunc:, :, :]\n",
    "    print(counts_3d.shape)\n",
    "\n",
    "    alive_voxels = np.sum(counts_3d, axis=0) > 0\n",
    "    print(alive_voxels.sum(), \"/\", np.prod(intensity_3d.shape[1:]), \"voxels are 'alive'\")\n",
    "\n",
    "    intensity = intensity_3d[:, alive_voxels]\n",
    "    counts = counts_3d[:, alive_voxels]\n",
    "    intensity[counts == 0] = 0.0\n",
    "\n",
    "    return counts, intensity, alive_voxels\n",
    "\n",
    "fos_counts, fos_intensity, alive_voxels = load_fos_counts()\n"
   ]
  },
  {
   "cell_type": "code",
   "execution_count": 13,
   "metadata": {},
   "outputs": [
    {
     "data": {
      "text/plain": [
       "(<Axes: >, <matplotlib.image.AxesImage at 0x350197910>)"
      ]
     },
     "execution_count": 13,
     "metadata": {},
     "output_type": "execute_result"
    },
    {
     "data": {
      "image/png": "[encoded data removed]",
      "text/plain": [
       "<Figure size 640x480 with 1 Axes>"
      ]
     },
     "metadata": {},
     "output_type": "display_data"
    }
   ],
   "source": [
    "plot_coronal(fos_counts[30], 50, alive_voxels)\n"
   ]
  },
  {
   "cell_type": "markdown",
   "metadata": {},
   "source": [
    "## Load the model fits using fraction of data"
   ]
  },
  {
   "cell_type": "code",
   "execution_count": 16,
   "metadata": {},
   "outputs": [],
   "source": [
    "# download the parameters of the Fos semiNMF fits\n",
    "api = wandb.Api()\n",
    "if not os.path.exists(os.path.join(FOS_PARAM_DIR, \"params_train.pkl\")):\n",
    "    artifact = api.artifact(f\"{WAND_FOS_HELDOUT_PROJECT}/params_pkl:v0\")\n",
    "    artifact.download(root=FOS_PARAM_DIR)\n",
    "\n",
    "with open(os.path.join(FOS_PARAM_DIR, \"params_train.pkl\"), \"rb\") as f:\n",
    "    train_fos_params = pickle.load(f)"
   ]
  },
  {
   "cell_type": "code",
   "execution_count": null,
   "metadata": {},
   "outputs": [],
   "source": [
    "# download the parameters of the Fos semiNMF fits\n",
    "api = wandb.Api()\n",
    "if not os.path.exists(os.path.join(BEHAVIOR_PARAM_DIR, \"params_train.pkl\")):\n",
    "    artifact = api.artifact(f\"{WAND_BEHAVIOR_HELDOUT_PROJECT}/params_pkl:v0\")\n",
    "    artifact.download(root=BEHAVIOR_PARAM_DIR)\n",
    "\n",
    "with open(os.path.join(BEHAVIOR_PARAM_DIR, \"params_train.pkl\"), \"rb\") as f:\n",
    "    train_fos_params = pickle.load(f)"
   ]
  },
  {
   "cell_type": "code",
   "execution_count": 8,
   "metadata": {},
   "outputs": [
    {
     "data": {
      "text/plain": [
       "dict_keys(['__header__', '__version__', '__globals__', 'factors', 'count_loadings', 'count_row_effects', 'count_col_effects', 'intensity_loadings', 'intensity_row_effects', 'intensity_col_effects', 'intensity_variance'])"
      ]
     },
     "execution_count": 8,
     "metadata": {},
     "output_type": "execute_result"
    }
   ],
   "source": [
    "# final_fos_params = loadmat(os.path.join(FOS_DATA_DIREC, \"2023_11_01_params.mat\"))\n",
    "# final_fos_params.keys()"
   ]
  },
  {
   "cell_type": "code",
   "execution_count": 9,
   "metadata": {},
   "outputs": [],
   "source": [
    "# # Rename keys as necessary\n",
    "# final_behav_params = loadmat(os.path.join(FOS_DATA_DIREC, \"dirichlet_tucker_22_4_4_22.mat\"))\n",
    "# final_behav_params['core_tensor'] = final_behav_params['G']\n",
    "# final_behav_params['epoch_factors'] = final_behav_params['E']\n",
    "# final_behav_params['position_factors'] = final_behav_params['P']\n",
    "# final_behav_params['syllable_factors'] = final_behav_params['S']\n",
    "# final_behav_params['loadings'] = final_behav_params['W']"
   ]
  },
  {
   "cell_type": "markdown",
   "metadata": {},
   "source": [
    "## Download the bootstrap model fits from W&B\n",
    "\n",
    "This takes about 10 minutes the first time you run it, but then the files are saved on your hard drive."
   ]
  },
  {
   "cell_type": "code",
   "execution_count": 10,
   "metadata": {},
   "outputs": [
    {
     "data": {
      "text/html": [
       "\n",
       "<style>\n",
       "    /* Turns off some styling */\n",
       "    progress {\n",
       "        /* gets rid of default border in Firefox and Opera. */\n",
       "        border: none;\n",
       "        /* Needs to be in here for Safari polyfill so background images work as expected. */\n",
       "        background-size: auto;\n",
       "    }\n",
       "    progress:not([value]), progress:not([value])::-webkit-progress-bar {\n",
       "        background: repeating-linear-gradient(45deg, #7e7e7e, #7e7e7e 10px, #5c5c5c 10px, #5c5c5c 20px);\n",
       "    }\n",
       "    .progress-bar-interrupted, .progress-bar-interrupted::-webkit-progress-bar {\n",
       "        background: #F44336;\n",
       "    }\n",
       "</style>\n"
      ],
      "text/plain": [
       "<IPython.core.display.HTML object>"
      ]
     },
     "metadata": {},
     "output_type": "display_data"
    },
    {
     "data": {
      "text/html": [
       "\n",
       "    <div>\n",
       "      <progress value='250' class='' max='250' style='width:300px; height:20px; vertical-align: middle;'></progress>\n",
       "      100.00% [250/250 00:00&lt;00:00]\n",
       "    </div>\n",
       "    "
      ],
      "text/plain": [
       "<IPython.core.display.HTML object>"
      ]
     },
     "metadata": {},
     "output_type": "display_data"
    }
   ],
   "source": [
    "# download the parameters of the Fos semiNMF fits\n",
    "api = wandb.Api()\n",
    "for i in progress_bar(range(0, NUM_BOOTSTRAP)):\n",
    "    if os.path.exists(os.path.join(FOS_PARAM_DIR, \"params_{:04d}.pkl\".format(i))):\n",
    "        # print(f\"found results for iteration {i}\")\n",
    "        continue\n",
    "\n",
    "    artifact = api.artifact(f\"{WAND_FOS_BOOTSTRAP_PROJECT}/params_pkl:v{i}\")\n",
    "    artifact.download(root=FOS_PARAM_DIR)"
   ]
  },
  {
   "cell_type": "code",
   "execution_count": 11,
   "metadata": {},
   "outputs": [
    {
     "data": {
      "text/html": [
       "\n",
       "<style>\n",
       "    /* Turns off some styling */\n",
       "    progress {\n",
       "        /* gets rid of default border in Firefox and Opera. */\n",
       "        border: none;\n",
       "        /* Needs to be in here for Safari polyfill so background images work as expected. */\n",
       "        background-size: auto;\n",
       "    }\n",
       "    progress:not([value]), progress:not([value])::-webkit-progress-bar {\n",
       "        background: repeating-linear-gradient(45deg, #7e7e7e, #7e7e7e 10px, #5c5c5c 10px, #5c5c5c 20px);\n",
       "    }\n",
       "    .progress-bar-interrupted, .progress-bar-interrupted::-webkit-progress-bar {\n",
       "        background: #F44336;\n",
       "    }\n",
       "</style>\n"
      ],
      "text/plain": [
       "<IPython.core.display.HTML object>"
      ]
     },
     "metadata": {},
     "output_type": "display_data"
    },
    {
     "data": {
      "text/html": [
       "\n",
       "    <div>\n",
       "      <progress value='253' class='' max='253' style='width:300px; height:20px; vertical-align: middle;'></progress>\n",
       "      100.00% [253/253 00:00&lt;00:00]\n",
       "    </div>\n",
       "    "
      ],
      "text/plain": [
       "<IPython.core.display.HTML object>"
      ]
     },
     "metadata": {},
     "output_type": "display_data"
    }
   ],
   "source": [
    "# download the parameters of the Fos semiNMF fits\n",
    "api = wandb.Api()\n",
    "for i in progress_bar(range(0, NUM_BOOTSTRAP + 3)):\n",
    "    if os.path.exists(os.path.join(BEHAVIOR_PARAM_DIR, \"params_{:04d}.pkl\".format(i))):\n",
    "        # print(f\"found results for iteration {i}\")\n",
    "        continue\n",
    "\n",
    "    try:\n",
    "        artifact = api.artifact(f\"{WAND_BEHAVIOR_BOOTSTRAP_PROJECT}/params_pkl:v{i}\")\n",
    "        # artifact = api.artifact(\"/params_pkl:v{:d}\".format(i))\n",
    "        artifact.download(root=BEHAVIOR_PARAM_DIR)\n",
    "    except: \n",
    "        print(\"could not find artifact params_pkl:v{:d}\".format(i))\n",
    "        continue"
   ]
  },
  {
   "cell_type": "markdown",
   "metadata": {},
   "source": [
    "## Fos -> behavior predictions"
   ]
  },
  {
   "cell_type": "code",
   "execution_count": 47,
   "metadata": {},
   "outputs": [],
   "source": [
    "def predict_behavior_given_fos(test_fos_counts,\n",
    "                               test_fos_intensity,\n",
    "                            #    train_fos_counts, \n",
    "                               fos_params,\n",
    "                               behav_params):\n",
    "    \"\"\"Predict behavioral syllables (across time and space) given \n",
    "    test Fos counts.\n",
    "    \"\"\"\n",
    "    if test_fos_counts.ndim == 1:\n",
    "        is_1d = True\n",
    "        test_fos_counts = test_fos_counts[None, :]\n",
    "    else:\n",
    "        is_1d = False\n",
    "        assert test_fos_counts.ndim == 2\n",
    "\n",
    "    # fos_mean = train_fos_counts.mean(axis=0)\n",
    "    # fos_var = train_fos_counts.var(axis=0)\n",
    "    # test_fos_centered = test_fos_counts - fos_mean\n",
    "    \n",
    "    # # Compute the OLS estimate of the fos factors given test fos counts\n",
    "    fos_loadings = fos_params['count_loadings']            # (mice x n_fos_factors) \n",
    "    # fos_factors = fos_params['factors'].T                  # (voxels x n_fos_factors)\n",
    "    # fos_loading_cov = np.cov(fos_loadings, rowvar=False)   # (n_fos_factors x n_fos_factors)\n",
    "    # pred_fos_loadings = np.linalg.solve(\n",
    "    #     (fos_factors.T / fos_var) @ fos_factors, \n",
    "    #     (fos_factors.T / fos_var) @ test_fos_centered.T).T   # (n_fos_factors, n_pred)\n",
    "    test_params = seminmf.SemiNMFParams(\n",
    "        fos_params[\"factors\"],\n",
    "        jnp.zeros(()),\n",
    "        jnp.zeros(()),\n",
    "        fos_params['count_col_effects'],\n",
    "        jnp.zeros(()),\n",
    "        jnp.zeros(()),\n",
    "        fos_params['intensity_col_effects'],\n",
    "        fos_params['intensity_variance']\n",
    "    )\n",
    "\n",
    "    test_params, losses, hlls = seminmf.predict_poisson_seminmf(\n",
    "        test_fos_counts,\n",
    "        test_fos_intensity,\n",
    "        test_params,\n",
    "        num_iters=100,\n",
    "        num_coord_ascent_iters=1,\n",
    "        mean_func=\"softplus\",\n",
    "        sparsity_penalty=0.01,\n",
    "        elastic_net_frac=1.0,\n",
    "        tolerance=1e-8,\n",
    "    )\n",
    "    pred_fos_loadings = test_params.count_loadings\n",
    "\n",
    "    # plt.figure()\n",
    "    # plt.plot(losses[1:])\n",
    "    # plt.xlabel(\"iteration\")\n",
    "    # plt.ylabel(\"loss\")\n",
    "\n",
    "    # plt.figure()\n",
    "    # plt.plot(hlls[1:])\n",
    "    # plt.xlabel(\"iteration\")\n",
    "    # plt.ylabel(\"hll\")\n",
    "\n",
    "    # Train a linear regression to map fos loadings to (unconstrained) behavior loadings\n",
    "    behav_loadings = behav_params['loadings']          # (mice x n_beh_factors) \n",
    "    behav_loadings_unc = tfb.SoftmaxCentered().inverse(behav_loadings)\n",
    "    lr = LinearRegression()\n",
    "    lr.fit(fos_loadings, behav_loadings_unc)\n",
    "    pred_behav_loadings = tfb.SoftmaxCentered()(lr.predict(pred_fos_loadings))\n",
    "\n",
    "    # Map predicted behavior loadings to predicted syllable counts\n",
    "    pred_behav = np.einsum('pi,ijkl, mj, kn, lo->pmno', \n",
    "                            pred_behav_loadings, \n",
    "                            behav_params['core_tensor'], \n",
    "                            behav_params['epoch_factors'], \n",
    "                            behav_params['position_factors'], \n",
    "                            behav_params['syllable_factors'])\n",
    "    \n",
    "    return pred_behav[0] if is_1d else pred_behav"
   ]
  },
  {
   "cell_type": "markdown",
   "metadata": {},
   "source": [
    "### Make test Fos patterns"
   ]
  },
  {
   "cell_type": "code",
   "execution_count": 48,
   "metadata": {},
   "outputs": [],
   "source": [
    "def make_fos_mask(region, alive_voxels):\n",
    "    \"\"\"Make a binary mask for perturbing fos counts\n",
    "    \"\"\"\n",
    "    region_ids = loadmat(os.path.join(FOS_DATA_DIREC, \"region_ids_100um.mat\"))[\"regions_small\"]\n",
    "    region_ids = np.transpose(region_ids, (2,1,0))\n",
    "    region_ids_alive = region_ids[alive_voxels]\n",
    "\n",
    "    annot = pd.read_csv(os.path.join(FOS_DATA_DIREC, \"region_annotations.csv\"))\n",
    "    target_id = annot[annot[\"name\"] == region].id.values[0]\n",
    "    mask = region_ids_alive == target_id\n",
    "    return mask"
   ]
  },
  {
   "cell_type": "code",
   "execution_count": 49,
   "metadata": {},
   "outputs": [
    {
     "data": {
      "text/plain": [
       "([], [])"
      ]
     },
     "execution_count": 49,
     "metadata": {},
     "output_type": "execute_result"
    },
    {
     "data": {
      "text/plain": [
       "<Figure size 640x480 with 0 Axes>"
      ]
     },
     "metadata": {},
     "output_type": "display_data"
    },
    {
     "data": {
      "image/png": "[encoded data removed]",
      "text/plain": [
       "<Figure size 640x480 with 1 Axes>"
      ]
     },
     "metadata": {},
     "output_type": "display_data"
    }
   ],
   "source": [
    "mask  = make_fos_mask(\"Caudoputamen\", alive_voxels)\n",
    "# mask  = make_fos_mask(\"Central amygdalar nucleus\", alive_voxels)\n",
    "# mask  = make_fos_mask(\"Primary motor area\", alive_voxels)\n",
    "# mask  = make_fos_mask(\"Dentate nucleus\", alive_voxels)\n",
    "\n",
    "plt.figure()\n",
    "slc = 35\n",
    "ax, im = plot_coronal(fos_counts[100], slc, alive_voxels)\n",
    "ax, im = plot_coronal(mask, slc, alive_voxels, ax=ax, alpha=0.5, cmap=\"Reds\")\n",
    "plt.xticks([])\n",
    "plt.yticks([])"
   ]
  },
  {
   "cell_type": "code",
   "execution_count": 50,
   "metadata": {},
   "outputs": [],
   "source": [
    "# Make a pair of test fos maps to predict behavior from\n",
    "saline_fos_counts = fos_counts[drugs == 10].mean(axis=0)\n",
    "test_fos_counts = np.row_stack([\n",
    "    saline_fos_counts,\n",
    "    jnp.where(mask, saline_fos_counts * 10, saline_fos_counts)\n",
    "])\n",
    "\n",
    "saline_fos_intensity = jnp.nanmean(fos_intensity[drugs == 10], axis=0)\n",
    "test_fos_intensity = np.row_stack([\n",
    "    saline_fos_intensity,\n",
    "    saline_fos_intensity\n",
    "])\n"
   ]
  },
  {
   "cell_type": "markdown",
   "metadata": {},
   "source": [
    "### Compute distribution of predicted change in behavior using final model fits"
   ]
  },
  {
   "cell_type": "code",
   "execution_count": 51,
   "metadata": {},
   "outputs": [],
   "source": [
    "# score_fn = lambda x, x0: np.log(x / x0) # log relative change in probability\n",
    "score_fn = lambda x, x0: (x - x0)       # absolute change in probability"
   ]
  },
  {
   "cell_type": "code",
   "execution_count": 52,
   "metadata": {},
   "outputs": [
    {
     "data": {
      "text/html": [
       "\n",
       "<style>\n",
       "    /* Turns off some styling */\n",
       "    progress {\n",
       "        /* gets rid of default border in Firefox and Opera. */\n",
       "        border: none;\n",
       "        /* Needs to be in here for Safari polyfill so background images work as expected. */\n",
       "        background-size: auto;\n",
       "    }\n",
       "    progress:not([value]), progress:not([value])::-webkit-progress-bar {\n",
       "        background: repeating-linear-gradient(45deg, #7e7e7e, #7e7e7e 10px, #5c5c5c 10px, #5c5c5c 20px);\n",
       "    }\n",
       "    .progress-bar-interrupted, .progress-bar-interrupted::-webkit-progress-bar {\n",
       "        background: #F44336;\n",
       "    }\n",
       "</style>\n"
      ],
      "text/plain": [
       "<IPython.core.display.HTML object>"
      ]
     },
     "metadata": {},
     "output_type": "display_data"
    },
    {
     "data": {
      "text/html": [
       "\n",
       "    <div>\n",
       "      <progress value='35' class='' max='100' style='width:300px; height:20px; vertical-align: middle;'></progress>\n",
       "      35.00% [35/100 00:06&lt;00:11 loss: 19.3248]\n",
       "    </div>\n",
       "    "
      ],
      "text/plain": [
       "<IPython.core.display.HTML object>"
      ]
     },
     "metadata": {},
     "output_type": "display_data"
    }
   ],
   "source": [
    "final_pred_behav = predict_behavior_given_fos(\n",
    "    test_fos_counts,\n",
    "    test_fos_intensity,\n",
    "    # fos_counts, \n",
    "    final_fos_params,\n",
    "    final_behav_params\n",
    ")\n",
    "final_pred_behav_change = score_fn(final_pred_behav[1], final_pred_behav[0])"
   ]
  },
  {
   "cell_type": "code",
   "execution_count": 56,
   "metadata": {},
   "outputs": [
    {
     "data": {
      "image/png": "[encoded data removed]",
      "text/plain": [
       "<Figure size 1200x200 with 8 Axes>"
      ]
     },
     "metadata": {},
     "output_type": "display_data"
    }
   ],
   "source": [
    "# Plot the changes for a few epochs\n",
    "epochs_to_plot = [0, 3, 6, 9]\n",
    "fig, axs = plt.subplots(1, len(epochs_to_plot), figsize=(3 * len(epochs_to_plot), 2))\n",
    "vlim = abs(final_pred_behav_change).max()\n",
    "for j, e in enumerate(epochs_to_plot):\n",
    "    im = axs[j].imshow(final_pred_behav_change[e], \n",
    "                         cmap=cmap,\n",
    "                         interpolation=\"none\", \n",
    "                         aspect=\"auto\",\n",
    "                         vmin=-vlim, \n",
    "                         vmax=vlim)\n",
    "    axs[j].set_xticks([])\n",
    "    axs[j].set_title(f\"epoch {e}\")\n",
    "    axs[j].set_ylabel(\"position\")\n",
    "    # plt.colorbar(im, label=r\"$\\log \\frac{{p_{{\\mathsf{{perturb}}}}}}{{p_{{\\mathsf{{saline}}}}}}$.\")\n",
    "    plt.colorbar(im, label=r\"$p_{{\\mathsf{{perturb}}}} - p_{{\\mathsf{{saline}}}}$\")\n",
    "\n",
    "plt.tight_layout()\n",
    "\n"
   ]
  },
  {
   "cell_type": "markdown",
   "metadata": {},
   "source": [
    "### Compute distribution of predicted change in behavior across bootstrap replicates"
   ]
  },
  {
   "cell_type": "code",
   "execution_count": 45,
   "metadata": {},
   "outputs": [
    {
     "data": {
      "text/html": [
       "\n",
       "<style>\n",
       "    /* Turns off some styling */\n",
       "    progress {\n",
       "        /* gets rid of default border in Firefox and Opera. */\n",
       "        border: none;\n",
       "        /* Needs to be in here for Safari polyfill so background images work as expected. */\n",
       "        background-size: auto;\n",
       "    }\n",
       "    progress:not([value]), progress:not([value])::-webkit-progress-bar {\n",
       "        background: repeating-linear-gradient(45deg, #7e7e7e, #7e7e7e 10px, #5c5c5c 10px, #5c5c5c 20px);\n",
       "    }\n",
       "    .progress-bar-interrupted, .progress-bar-interrupted::-webkit-progress-bar {\n",
       "        background: #F44336;\n",
       "    }\n",
       "</style>\n"
      ],
      "text/plain": [
       "<IPython.core.display.HTML object>"
      ]
     },
     "metadata": {},
     "output_type": "display_data"
    },
    {
     "data": {
      "text/html": [
       "\n",
       "    <div>\n",
       "      <progress value='0' class='' max='250' style='width:300px; height:20px; vertical-align: middle;'></progress>\n",
       "      0.00% [0/250 00:00&lt;?]\n",
       "    </div>\n",
       "    "
      ],
      "text/plain": [
       "<IPython.core.display.HTML object>"
      ]
     },
     "metadata": {},
     "output_type": "display_data"
    },
    {
     "ename": "KeyError",
     "evalue": "'count_col_effects'",
     "output_type": "error",
     "traceback": [
      "\u001b[0;31m---------------------------------------------------------------------------\u001b[0m",
      "\u001b[0;31mKeyError\u001b[0m                                  Traceback (most recent call last)",
      "Cell \u001b[0;32mIn[45], line 12\u001b[0m\n\u001b[1;32m      8\u001b[0m     behav_params \u001b[38;5;241m=\u001b[39m pickle\u001b[38;5;241m.\u001b[39mload(f)\n\u001b[1;32m     10\u001b[0m \u001b[38;5;28;01massert\u001b[39;00m np\u001b[38;5;241m.\u001b[39mall(behav_params[\u001b[38;5;124m'\u001b[39m\u001b[38;5;124mbootstrap_inds\u001b[39m\u001b[38;5;124m'\u001b[39m] \u001b[38;5;241m==\u001b[39m fos_params[\u001b[38;5;124m'\u001b[39m\u001b[38;5;124mbootstrap_inds\u001b[39m\u001b[38;5;124m'\u001b[39m])\n\u001b[0;32m---> 12\u001b[0m pred_behav \u001b[38;5;241m=\u001b[39m \u001b[43mpredict_behavior_given_fos\u001b[49m\u001b[43m(\u001b[49m\n\u001b[1;32m     13\u001b[0m \u001b[43m    \u001b[49m\u001b[43mtest_fos_counts\u001b[49m\u001b[43m,\u001b[49m\n\u001b[1;32m     14\u001b[0m \u001b[43m    \u001b[49m\u001b[43mtest_fos_intensity\u001b[49m\u001b[43m,\u001b[49m\n\u001b[1;32m     15\u001b[0m \u001b[43m    \u001b[49m\u001b[43mfos_params\u001b[49m\u001b[43m,\u001b[49m\n\u001b[1;32m     16\u001b[0m \u001b[43m    \u001b[49m\u001b[43mbehav_params\u001b[49m\n\u001b[1;32m     17\u001b[0m \u001b[43m\u001b[49m\u001b[43m)\u001b[49m\n\u001b[1;32m     18\u001b[0m bootstrap_pred_behav_changes[i] \u001b[38;5;241m=\u001b[39m score_fn(pred_behav[\u001b[38;5;241m1\u001b[39m], pred_behav[\u001b[38;5;241m0\u001b[39m])\n",
      "Cell \u001b[0;32mIn[38], line 31\u001b[0m, in \u001b[0;36mpredict_behavior_given_fos\u001b[0;34m(test_fos_counts, test_fos_intensity, fos_params, behav_params)\u001b[0m\n\u001b[1;32m     21\u001b[0m fos_loadings \u001b[38;5;241m=\u001b[39m fos_params[\u001b[38;5;124m'\u001b[39m\u001b[38;5;124mcount_loadings\u001b[39m\u001b[38;5;124m'\u001b[39m]            \u001b[38;5;66;03m# (mice x n_fos_factors) \u001b[39;00m\n\u001b[1;32m     22\u001b[0m \u001b[38;5;66;03m# fos_factors = fos_params['factors'].T                  # (voxels x n_fos_factors)\u001b[39;00m\n\u001b[1;32m     23\u001b[0m \u001b[38;5;66;03m# fos_loading_cov = np.cov(fos_loadings, rowvar=False)   # (n_fos_factors x n_fos_factors)\u001b[39;00m\n\u001b[1;32m     24\u001b[0m \u001b[38;5;66;03m# pred_fos_loadings = np.linalg.solve(\u001b[39;00m\n\u001b[1;32m     25\u001b[0m \u001b[38;5;66;03m#     (fos_factors.T / fos_var) @ fos_factors, \u001b[39;00m\n\u001b[1;32m     26\u001b[0m \u001b[38;5;66;03m#     (fos_factors.T / fos_var) @ test_fos_centered.T).T   # (n_fos_factors, n_pred)\u001b[39;00m\n\u001b[1;32m     27\u001b[0m test_params \u001b[38;5;241m=\u001b[39m seminmf\u001b[38;5;241m.\u001b[39mSemiNMFParams(\n\u001b[1;32m     28\u001b[0m     fos_params[\u001b[38;5;124m\"\u001b[39m\u001b[38;5;124mfactors\u001b[39m\u001b[38;5;124m\"\u001b[39m],\n\u001b[1;32m     29\u001b[0m     jnp\u001b[38;5;241m.\u001b[39mzeros(()),\n\u001b[1;32m     30\u001b[0m     jnp\u001b[38;5;241m.\u001b[39mzeros(()),\n\u001b[0;32m---> 31\u001b[0m     \u001b[43mfos_params\u001b[49m\u001b[43m[\u001b[49m\u001b[38;5;124;43m'\u001b[39;49m\u001b[38;5;124;43mcount_col_effects\u001b[39;49m\u001b[38;5;124;43m'\u001b[39;49m\u001b[43m]\u001b[49m,\n\u001b[1;32m     32\u001b[0m     jnp\u001b[38;5;241m.\u001b[39mzeros(()),\n\u001b[1;32m     33\u001b[0m     jnp\u001b[38;5;241m.\u001b[39mzeros(()),\n\u001b[1;32m     34\u001b[0m     fos_params[\u001b[38;5;124m'\u001b[39m\u001b[38;5;124mintensity_col_effects\u001b[39m\u001b[38;5;124m'\u001b[39m],\n\u001b[1;32m     35\u001b[0m     fos_params[\u001b[38;5;124m'\u001b[39m\u001b[38;5;124mintensity_variance\u001b[39m\u001b[38;5;124m'\u001b[39m]\n\u001b[1;32m     36\u001b[0m )\n\u001b[1;32m     38\u001b[0m test_params, losses, hlls \u001b[38;5;241m=\u001b[39m seminmf\u001b[38;5;241m.\u001b[39mpredict_poisson_seminmf(\n\u001b[1;32m     39\u001b[0m     test_fos_counts,\n\u001b[1;32m     40\u001b[0m     test_fos_intensity,\n\u001b[0;32m   (...)\u001b[0m\n\u001b[1;32m     47\u001b[0m     tolerance\u001b[38;5;241m=\u001b[39m\u001b[38;5;241m1e-8\u001b[39m,\n\u001b[1;32m     48\u001b[0m )\n\u001b[1;32m     49\u001b[0m pred_fos_loadings \u001b[38;5;241m=\u001b[39m test_params\u001b[38;5;241m.\u001b[39mcount_loadings\n",
      "\u001b[0;31mKeyError\u001b[0m: 'count_col_effects'"
     ]
    }
   ],
   "source": [
    "bootstrap_pred_behav_changes = np.zeros((NUM_BOOTSTRAP, NUM_EPOCHS, NUM_POSITIONS, NUM_SYLLABLES))\n",
    "for i in progress_bar(range(NUM_BOOTSTRAP)):\n",
    "    fname = \"params_{:04d}.pkl\".format(i)\n",
    "    with open(os.path.join(FOS_PARAM_DIR, fname), \"rb\") as f:\n",
    "        fos_params = pickle.load(f)\n",
    "\n",
    "    with open(os.path.join(BEHAVIOR_PARAM_DIR, fname), \"rb\") as f:\n",
    "        behav_params = pickle.load(f)\n",
    "\n",
    "    assert np.all(behav_params['bootstrap_inds'] == fos_params['bootstrap_inds'])\n",
    "\n",
    "    pred_behav = predict_behavior_given_fos(\n",
    "        test_fos_counts,\n",
    "        test_fos_intensity,\n",
    "        fos_params,\n",
    "        behav_params\n",
    "    )\n",
    "    bootstrap_pred_behav_changes[i] = score_fn(pred_behav[1], pred_behav[0])\n",
    "    "
   ]
  },
  {
   "cell_type": "code",
   "execution_count": null,
   "metadata": {},
   "outputs": [],
   "source": [
    "e, p, s = 3, 5, 36\n",
    "plt.hist(bootstrap_pred_behav_changes[:, e, p, s], 50, alpha=0.75, edgecolor='gray', label='bootstrap samples')\n",
    "plt.axvline(final_pred_behav_change[e, p, s], color='r', label='full model')\n",
    "plt.xlabel(\"predicted change in syllable probability\")\n",
    "plt.ylabel(\"number of bootstrap replicates\")\n",
    "plt.title(f\"epoch {e}, position {p}, syllable {s}\")\n",
    "plt.legend()"
   ]
  },
  {
   "cell_type": "markdown",
   "metadata": {},
   "source": [
    "### Compute quantile of zero"
   ]
  },
  {
   "cell_type": "code",
   "execution_count": null,
   "metadata": {},
   "outputs": [],
   "source": [
    "cdf0 = np.sum(bootstrap_pred_behav_changes < 0, axis=0) / (NUM_BOOTSTRAP + 1)\n",
    "\n",
    "plt.hist(cdf0.ravel(), 50, alpha=0.75, edgecolor='gray', label='bootstrap samples')\n",
    "plt.xlim(0, 1)\n",
    "plt.xlabel(\"CDF of 0 change in behavior\")\n",
    "plt.ylabel(\"count\")"
   ]
  },
  {
   "cell_type": "markdown",
   "metadata": {},
   "source": [
    "### Compute t statistics"
   ]
  },
  {
   "cell_type": "code",
   "execution_count": null,
   "metadata": {},
   "outputs": [],
   "source": [
    "from scipy import stats\n",
    "sem_pred_behav_change = np.std(bootstrap_pred_behav_changes, axis=0)\n",
    "tstat_pred_behav_change = final_pred_behav_change / sem_pred_behav_change\n",
    "pval_pred_behav_change = stats.t.sf(np.abs(tstat_pred_behav_change), NUM_BOOTSTRAP-1)*2\n",
    "\n",
    "# Make a copy of the changes and nan out the insignificant ones\n",
    "p_thresh = 0.05 / final_pred_behav_change.size\n",
    "sig = pval_pred_behav_change < p_thresh\n",
    "sig_pred_behav_change = final_pred_behav_change.copy()\n",
    "sig_pred_behav_change[~sig] = np.nan\n",
    "\n",
    "print(f\"num sig. predictions (Bonferroni): {sig.sum()}\")"
   ]
  },
  {
   "cell_type": "markdown",
   "metadata": {},
   "source": [
    "### Show the predicted change and the t statistic"
   ]
  },
  {
   "cell_type": "code",
   "execution_count": null,
   "metadata": {},
   "outputs": [],
   "source": [
    "# Plot the changes for a few epochs\n",
    "epochs_to_plot = [0, 3, 6, 9]\n",
    "fig, axs = plt.subplots(len(epochs_to_plot), 3, figsize=(12, 2 * len(epochs_to_plot)))\n",
    "vlim = abs(final_pred_behav_change).max()\n",
    "tlim = abs(tstat_pred_behav_change).max()\n",
    "for j, e in enumerate(epochs_to_plot):\n",
    "    im = axs[j,0].imshow(final_pred_behav_change[e], \n",
    "                         cmap=cmap,\n",
    "                         interpolation=\"none\", \n",
    "                         aspect=\"auto\",\n",
    "                         vmin=-vlim, \n",
    "                         vmax=vlim)\n",
    "    axs[j,0].set_xticks([])\n",
    "    axs[j,0].set_title(f\"epoch {e}\")\n",
    "    axs[j,0].set_ylabel(\"position\")\n",
    "    # plt.colorbar(im, label=r\"$\\log \\frac{{p_{{\\mathsf{{perturb}}}}}}{{p_{{\\mathsf{{saline}}}}}}$.\")\n",
    "    plt.colorbar(im, label=r\"$p_{{\\mathsf{{perturb}}}} - p_{{\\mathsf{{saline}}}}$\")\n",
    "\n",
    "    im = axs[j,1].imshow(tstat_pred_behav_change[e], \n",
    "                         cmap=cmap,\n",
    "                         interpolation=\"none\", \n",
    "                         aspect=\"auto\",\n",
    "                         vmin=-tlim, \n",
    "                         vmax=tlim)\n",
    "    axs[j,1].set_xticks([])\n",
    "    axs[j,1].set_title(f\"epoch {e}\")\n",
    "    # axs[j,1].set_ylabel(\"position\")\n",
    "    # plt.colorbar(im, label=r\"$\\log \\frac{{p_{{\\mathsf{{perturb}}}}}}{{p_{{\\mathsf{{saline}}}}}}$.\")\n",
    "    plt.colorbar(im, label=r\"$t$-statistic\")\n",
    "\n",
    "    im = axs[j,2].imshow(sig_pred_behav_change[e], \n",
    "                         cmap=cmap,\n",
    "                         interpolation=\"none\", \n",
    "                         aspect=\"auto\",\n",
    "                         vmin=-vlim, \n",
    "                         vmax=vlim)\n",
    "    # axs[j,2].set_ylabel(\"position\")\n",
    "    axs[j,2].set_xticks([])\n",
    "    axs[j,2].set_title(f\"epoch {e}\")\n",
    "    # plt.colorbar(im, label=r\"$\\log \\frac{{p_{{\\mathsf{{perturb}}}}}}{{p_{{\\mathsf{{saline}}}}}}$.\")\n",
    "    plt.colorbar(im, label=r\"$p_{{\\mathsf{{perturb}}}} - p_{{\\mathsf{{saline}}}}$\")\n",
    "\n",
    "plt.tight_layout()\n",
    "\n"
   ]
  },
  {
   "cell_type": "markdown",
   "metadata": {},
   "source": [
    "## Behavior -> Fos predictions"
   ]
  },
  {
   "cell_type": "code",
   "execution_count": null,
   "metadata": {},
   "outputs": [],
   "source": [
    "def predict_fos_given_behavior(perturb_behav,\n",
    "                               fos_params,\n",
    "                               beh_params,\n",
    "                               softmax=True,\n",
    "                               return_loadings=False):\n",
    "    \"\"\"Predict behavioral syllables (across time and space) given \n",
    "    test Fos counts.\n",
    "    \"\"\"\n",
    "    if perturb_behav.ndim == 3:\n",
    "        is_1d = True\n",
    "        perturb_behav = perturb_behav[None, :]\n",
    "    else:\n",
    "        is_1d = False\n",
    "        assert perturb_behav.ndim == 4\n",
    "\n",
    "    # extract behavior \"factors\"\n",
    "    factors = np.einsum('ijkl,nj,kp,ls->inps',\n",
    "                    beh_params['core_tensor'],\n",
    "                    beh_params['epoch_factors'],\n",
    "                    beh_params['position_factors'],\n",
    "                    beh_params['syllable_factors'])\n",
    "\n",
    "\n",
    "    # Initialize the \n",
    "    saline_loadings = beh_params['loadings'][drugs==10].mean(axis=0)\n",
    "    test_beh_loadings = np.repeat(saline_loadings[None, :], \n",
    "                                  len(perturb_behav), \n",
    "                                  axis=0)\n",
    "    \n",
    "    # solve for the test behav loadings with a fixed point iteration\n",
    "    for _ in range(50):\n",
    "        r = np.einsum('mi,inps->minps', test_beh_loadings, factors)\n",
    "        C = np.einsum('mi,inps->mnps', test_beh_loadings, factors)\n",
    "        test_beh_loadings = np.einsum('mnps, minps, mnps -> mi', perturb_behav, r, 1/C)\n",
    "        test_beh_loadings /= test_beh_loadings.sum(axis=1, keepdims=True)\n",
    "    \n",
    "    # Convert loadings to unconstrained form if specified\n",
    "    unc_test_beh_loadings = tfb.SoftmaxCentered().inverse(test_beh_loadings) \\\n",
    "        if softmax else test_beh_loadings\n",
    "    unc_beh_loadings = tfb.SoftmaxCentered().inverse(beh_params['loadings']) \\\n",
    "        if softmax else beh_params['loadings']\n",
    "    \n",
    "    # train linear regression to map behavior loadings to Fos loadings\n",
    "    lr = LinearRegression().fit(unc_beh_loadings, fos_params['count_loadings'])\n",
    "    pred_fos_loadings = lr.predict(unc_test_beh_loadings)\n",
    "    \n",
    "    # map predicted Fos loadings to predicted Fos counts\n",
    "    pred_fos = pred_fos_loadings @ fos_params['factors']    \n",
    "    pred_fos = pred_fos[0] if is_1d else pred_fos\n",
    "\n",
    "    return (pred_fos, test_beh_loadings) if return_loadings else pred_fos"
   ]
  },
  {
   "cell_type": "markdown",
   "metadata": {},
   "source": [
    "### Make test behavior data"
   ]
  },
  {
   "cell_type": "code",
   "execution_count": null,
   "metadata": {},
   "outputs": [],
   "source": [
    "# make dummy \"data\"\n",
    "saline_behav = np.einsum('i,ijkl,nj,kp,ls->nps', \n",
    "                        final_behav_params['loadings'][drugs==10].mean(axis=0), \n",
    "                        final_behav_params['core_tensor'],\n",
    "                        final_behav_params['epoch_factors'],\n",
    "                        final_behav_params['position_factors'],\n",
    "                        final_behav_params['syllable_factors'])\n",
    "\n",
    "# Upweight random syllables\n",
    "# perturb_behav = saline_behav.copy()\n",
    "# perturb_behav += 0.001 * np.random.randn(*perturb_behav.shape)\n",
    "# perturb_behav = np.clip(perturb_behav, 0, np.inf)\n",
    "# perturb_behav /= perturb_behav.sum()\n",
    "\n",
    "# More locomotion\n",
    "perturb_behav = saline_behav.copy()\n",
    "perturb_behav[:, :, 38:50] *= 10\n",
    "perturb_behav /= perturb_behav.sum(axis=(1, 2), keepdims=True)\n",
    "\n",
    "# More grooming\n",
    "# perturb_behav = saline_behav.copy()\n",
    "# perturb_behav[:, :, 28:35] *= 10\n",
    "# perturb_behav /= perturb_behav.sum(axis=(1, 2), keepdims=True)\n",
    "\n",
    "# More pausing\n",
    "# perturb_behav = saline_behav.copy()\n",
    "# perturb_behav[:, :, 19:24] *= 10\n",
    "# perturb_behav /= perturb_behav.sum(axis=(1, 2), keepdims=True)\n",
    "\n",
    "# More pausing with lights on\n",
    "# perturb_behav = saline_behav.copy()\n",
    "# perturb_behav[6:9, :, 19:24] *= 10\n",
    "# perturb_behav /= perturb_behav.sum(axis=(1, 2), keepdims=True)\n",
    "\n",
    "# No pausing\n",
    "# perturb_behav = saline_behav.copy()\n",
    "# perturb_behav[:, :, 19:24] *= 0.0\n",
    "# perturb_behav /= perturb_behav.sum(axis=(1, 2), keepdims=True)\n",
    "\n",
    "# More rearing (general)\n",
    "# perturb_behav = saline_behav.copy()\n",
    "# perturb_behav[:, :, 10:20] *= 10\n",
    "# perturb_behav /= perturb_behav.sum(axis=(1, 2), keepdims=True)\n",
    "\n",
    "# More rearing (specific)\n",
    "# perturb_behav = saline_behav.copy()\n",
    "# perturb_behav[:, :, np.array([2, 6, 10, 13], dtype=int)] *= 10\n",
    "# perturb_behav /= perturb_behav.sum(axis=(1, 2), keepdims=True)\n",
    "\n",
    "# No rearing (specific)\n",
    "# perturb_behav = saline_behav.copy()\n",
    "# perturb_behav[:, :, np.array([2, 6, 10, 13], dtype=int)] *= 0.0\n",
    "# perturb_behav /= perturb_behav.sum(axis=(1, 2), keepdims=True)\n",
    "\n",
    "test_behav = np.stack([\n",
    "    saline_behav,\n",
    "    perturb_behav\n",
    "])"
   ]
  },
  {
   "cell_type": "markdown",
   "metadata": {},
   "source": [
    "### Compute predictions with the final model parameters"
   ]
  },
  {
   "cell_type": "code",
   "execution_count": null,
   "metadata": {},
   "outputs": [],
   "source": [
    "final_pred_fos, test_loadings = predict_fos_given_behavior(\n",
    "    test_behav, \n",
    "    final_fos_params,\n",
    "    final_behav_params,\n",
    "    return_loadings=True\n",
    ")\n",
    "final_pred_fos_change = final_pred_fos[1] - final_pred_fos[0]"
   ]
  },
  {
   "cell_type": "markdown",
   "metadata": {},
   "source": [
    "### Compute predictions for bootstrap replicates"
   ]
  },
  {
   "cell_type": "code",
   "execution_count": null,
   "metadata": {},
   "outputs": [],
   "source": [
    "bootstrap_pred_fos_changes = np.zeros((NUM_BOOTSTRAP, NUM_VOXELS))\n",
    "\n",
    "for i in progress_bar(range(NUM_BOOTSTRAP)):\n",
    "    fname = \"params_{:04d}.pkl\".format(i)\n",
    "    with open(os.path.join(FOS_PARAM_DIR, fname), \"rb\") as f:\n",
    "        fos_params = pickle.load(f)\n",
    "\n",
    "    with open(os.path.join(BEHAVIOR_PARAM_DIR, fname), \"rb\") as f:\n",
    "        behav_params = pickle.load(f)\n",
    "\n",
    "    assert np.all(behav_params['bootstrap_inds'] == fos_params['bootstrap_inds'])\n",
    "\n",
    "    with warnings.catch_warnings():\n",
    "        warnings.simplefilter(\"ignore\")\n",
    "        pred_fos = predict_fos_given_behavior(\n",
    "            test_behav, \n",
    "            fos_params,\n",
    "            behav_params,\n",
    "            return_loadings=False\n",
    "        )\n",
    "    bootstrap_pred_fos_changes[i] = pred_fos[1] - pred_fos[0]"
   ]
  },
  {
   "cell_type": "markdown",
   "metadata": {},
   "source": [
    "Look at predicted change in Fos count for a voxel at position (60, 30, 30), which should be in a region of cortex that looks like a strong predicted change."
   ]
  },
  {
   "cell_type": "code",
   "execution_count": null,
   "metadata": {},
   "outputs": [],
   "source": [
    "_ii, _jj, _kk = np.where(alive_voxels)\n",
    "_v = np.where((_ii==60) & (_jj==30) & (_kk==30))[0][0]\n",
    "\n",
    "plt.hist(bootstrap_pred_fos_changes[:, _v], 50, alpha=0.75, edgecolor='gray', label='bootstrap samples')\n",
    "plt.axvline(final_pred_fos_change[_v], color='r', label='full model')\n",
    "plt.xlabel(\"predicted change in Fos count\")\n",
    "plt.ylabel(\"number of bootstrap replicates\")\n",
    "plt.title(f\"voxel {_v}\")\n",
    "plt.legend()"
   ]
  },
  {
   "cell_type": "markdown",
   "metadata": {},
   "source": [
    "### Compute t statistics"
   ]
  },
  {
   "cell_type": "code",
   "execution_count": null,
   "metadata": {},
   "outputs": [],
   "source": [
    "from scipy import stats\n",
    "sem_pred_fos_change = np.std(bootstrap_pred_fos_changes, axis=0)\n",
    "tstat_pred_fos_change = final_pred_fos_change / sem_pred_fos_change\n",
    "pval_pred_fos_change = stats.t.sf(np.abs(tstat_pred_fos_change), NUM_BOOTSTRAP-1)*2\n",
    "\n",
    "# Make a copy of the changes and nan out the insignificant ones\n",
    "p_thresh = 0.05 / final_pred_fos_change.size\n",
    "sig = pval_pred_fos_change < p_thresh\n",
    "sig_pred_fos_change = final_pred_fos_change.copy()\n",
    "sig_pred_fos_change[~sig] = np.nan\n",
    "\n",
    "print(f\"num sig. predictions (Bonferroni): {sig.sum()}\")"
   ]
  },
  {
   "cell_type": "markdown",
   "metadata": {},
   "source": [
    "### Compute quantile of zero"
   ]
  },
  {
   "cell_type": "code",
   "execution_count": null,
   "metadata": {},
   "outputs": [],
   "source": [
    "cdf0 = np.sum(bootstrap_pred_fos_changes < 0, axis=0) / (NUM_BOOTSTRAP + 1)\n",
    "\n",
    "plt.hist(cdf0.ravel(), 50, alpha=0.75, edgecolor='gray', label='bootstrap samples')\n",
    "plt.xlim(0, 1)\n",
    "plt.xlabel(\"CDF of 0 change in Fos cell count\")\n",
    "plt.ylabel(\"count\")"
   ]
  },
  {
   "cell_type": "markdown",
   "metadata": {},
   "source": [
    "### Show the final predictions and t-statistics"
   ]
  },
  {
   "cell_type": "code",
   "execution_count": null,
   "metadata": {},
   "outputs": [],
   "source": [
    "# Plot the changes for a single slice of the brain\n",
    "slices_to_plot = [10, 30, 50, 65, 75]\n",
    "\n",
    "# First plot the final predictions\n",
    "fig = plt.figure(figsize=(3 * len(slices_to_plot), 8))\n",
    "grid = ImageGrid(fig, 211,\n",
    "                 nrows_ncols=(2, len(slices_to_plot)),\n",
    "                 axes_pad=0.15,\n",
    "                 share_all=True,\n",
    "                 cbar_location=\"right\",\n",
    "                 cbar_mode=\"edge\",\n",
    "                 cbar_size=\"7%\",\n",
    "                 cbar_pad=0.15,\n",
    "                 )\n",
    "\n",
    "vlim = abs(final_pred_fos_change).max()\n",
    "for j, slc in enumerate(slices_to_plot):\n",
    "    # Plot the final prediction\n",
    "    ax, im1 = plot_coronal(final_pred_fos_change, \n",
    "                           slc, \n",
    "                           alive_voxels,\n",
    "                           ax=grid[j],\n",
    "                           alpha=1,\n",
    "                           cmap=\"RdBu_r\", \n",
    "                           vmin=-vlim, vmax=vlim)\n",
    "    ax.set_title(f\"slice {slc}\")\n",
    "    \n",
    "    # Plot the t-statistic\n",
    "    _, im2 = plot_coronal(tstat_pred_fos_change, \n",
    "                          slc, \n",
    "                          alive_voxels,\n",
    "                          ax=grid[len(slices_to_plot) + j],\n",
    "                          alpha=1,\n",
    "                          cmap=\"RdBu_r\", \n",
    "                          vmin=-5, vmax=5)\n",
    "    \n",
    "    # Finally, plot the predicted change over the SEM (z score again? ugh terrible naming)\n",
    "    # _, im3 = plot_coronal(pval_pred_fos_change, \n",
    "    #                       slc, \n",
    "    #                       alive_voxels,\n",
    "    #                       ax=grid[2 * len(slices_to_plot) + j],\n",
    "    #                       alpha=1,\n",
    "    #                       cmap=\"Greys_r\", \n",
    "    #                       vmin=0, vmax=1)\n",
    "    ax.set_title(f\"slice {slc}\")\n",
    "\n",
    "cbar1 = grid[len(slices_to_plot) - 1].cax.colorbar(im1, label=r'pred. $\\Delta$ count')\n",
    "cbar2 = grid[2 * len(slices_to_plot) - 1].cax.colorbar(im2, label=r'$t$-statistic')\n",
    "# cbar3 = grid[- 1].cax.colorbar(im3, label=r'$p$-value')"
   ]
  },
  {
   "cell_type": "markdown",
   "metadata": {},
   "source": [
    "### Control FDR with BH\n",
    "\n",
    "1. Sort p-values\n",
    "2. find largest $k$ such that $P_{(k)} < k/m \\alpha$ "
   ]
  },
  {
   "cell_type": "code",
   "execution_count": null,
   "metadata": {},
   "outputs": [],
   "source": [
    "fdr_level = 0.10\n",
    "sorted_pvals = np.sort(pval_pred_fos_change)\n",
    "upper_bound = (1 + np.arange(NUM_VOXELS)) / NUM_VOXELS * fdr_level\n",
    "\n",
    "plt.plot(sorted_pvals[:100], label='p-value')\n",
    "plt.plot(upper_bound[:100], '-r', label='fdr bound')\n",
    "plt.xlabel(\"index\")\n",
    "plt.ylabel(\"value\")\n",
    "plt.legend()\n",
    "# plt.xlim(0, 100)"
   ]
  },
  {
   "cell_type": "markdown",
   "metadata": {},
   "source": [
    "Unfortunately, it looks like the predictions still don't rise to the level of significance, even when we try to control FDR (with BH) rather than FWER (with Bonferroni correction)."
   ]
  },
  {
   "cell_type": "markdown",
   "metadata": {},
   "source": [
    "## Next Steps\n",
    "\n",
    "- Cross-validated prediction accuracy\n",
    "- Leave one out predictions\n"
   ]
  }
 ],
 "metadata": {
  "kernelspec": {
   "display_name": "base",
   "language": "python",
   "name": "python3"
  },
  "language_info": {
   "codemirror_mode": {
    "name": "ipython",
    "version": 3
   },
   "file_extension": ".py",
   "mimetype": "text/x-python",
   "name": "python",
   "nbconvert_exporter": "python",
   "pygments_lexer": "ipython3",
   "version": "3.10.9"
  }
 },
 "nbformat": 4,
 "nbformat_minor": 2
}
